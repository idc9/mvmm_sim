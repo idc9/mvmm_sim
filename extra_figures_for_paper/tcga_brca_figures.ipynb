{
 "cells": [
  {
   "cell_type": "code",
   "execution_count": 5,
   "metadata": {},
   "outputs": [],
   "source": [
    "from joblib import load\n",
    "from os.path import join\n",
    "# import argparse\n",
    "import numpy as np\n",
    "import matplotlib.pyplot as plt\n",
    "import seaborn as sns\n",
    "import pandas as pd\n",
    "\n",
    "from mvmm.tcga.TCGAPaths import TCGAPaths\n",
    "from mvmm.simulation.sim_viz import save_fig\n",
    "# from mvmm.data_analysis.utils import load_data\n",
    "# from mvmm.simulation.utils import make_and_get_dir\n",
    "from mvmm.data_analysis.multi_view.viz_resuls import plot_Pi\n",
    "from mvmm.data_analysis.survival import plot_survival\n",
    "\n",
    "\n",
    "inches = 10\n",
    "dpi = 200\n",
    "\n",
    "plt.rcParams[\"axes.labelsize\"] = 25\n",
    "sns.set_style(\"whitegrid\")\n",
    "\n",
    "save_dir = 'tcga_figures'"
   ]
  },
  {
   "cell_type": "code",
   "execution_count": 37,
   "metadata": {},
   "outputs": [],
   "source": [
    "cancer_type = 'BRCA'\n",
    "feat_list = 'icluster'\n",
    "v0 = 'rna'\n",
    "v1 = 'dna_meth' # 'cp', 'mi_rna', 'dna_meth'\n",
    "\n",
    "pro_data_dir = join(TCGAPaths().pro_data_dir, cancer_type)\n",
    "results_dir = join('/Users/iaincarmichael/Dropbox/Research/mvmm/simulations', 'tcga', '{}__{}__{}__{}__MVMM'.format(cancer_type, feat_list, v0, v1))\n",
    "\n",
    "interp_dir = join(results_dir, 'interpret', 'bd_mvmm')"
   ]
  },
  {
   "cell_type": "code",
   "execution_count": 38,
   "metadata": {},
   "outputs": [],
   "source": [
    "pi_data = load(join(interp_dir, 'pi_data'))\n",
    "# bd_mvmm = load(join(results_dir, 'model_fitting', 'selected_models'))['bd_mvmm'].final_\n",
    "\n",
    "survival = load(join(interp_dir, 'survival'))\n"
   ]
  },
  {
   "cell_type": "markdown",
   "metadata": {},
   "source": [
    "# BD Pi matrix"
   ]
  },
  {
   "cell_type": "code",
   "execution_count": null,
   "metadata": {},
   "outputs": [],
   "source": []
  },
  {
   "cell_type": "code",
   "execution_count": 39,
   "metadata": {},
   "outputs": [],
   "source": [
    "D = pi_data['Pi_block_perm']\n",
    "D.index.name = \"RNA Cluster\"\n",
    "\n",
    "if v1 == 'mi_rna':\n",
    "    D.columns.name = \"Micro RNA cluster\"\n",
    "elif v1 == 'cp':\n",
    "    D.columns.name = \"Copy Number cluster\"\n",
    "elif v1 == 'dna_meth':\n",
    "    D.columns.name = \"DNA Meth cluster\"\n",
    "\n",
    "plt.figure(figsize=(inches, inches))\n",
    "plot_Pi(D, mask=pi_data['Pi_block_perm_zero_mask'], cmap=\"Blues\", cbar=True, square=False)\n",
    "\n",
    "save_fig(join(save_dir, '{}_bd_pi.png'.format(v1)), dpi=dpi)"
   ]
  },
  {
   "cell_type": "markdown",
   "metadata": {},
   "source": [
    "# Block labels vs. PAM50 subtypes"
   ]
  },
  {
   "cell_type": "code",
   "execution_count": 40,
   "metadata": {},
   "outputs": [],
   "source": [
    "block_compare = load(join(interp_dir, 'block', 'metadata_comparisons_block'))\n",
    "\n",
    "compare_subtype = block_compare.comparisons_.loc['block', 'Subtype_mRNA']\n",
    "\n",
    "cross_counts = compare_subtype.cross_\n",
    "cross_counts.index.name = 'MVMM Block'\n",
    "cross_counts.columns.name = 'PAM50 Subtype'\n",
    "\n",
    "cross_counts[cross_counts == 0] = np.nan\n",
    "\n",
    "plt.figure(figsize=(4, 8))\n",
    "sns.heatmap(cross_counts.T, vmin=0, cmap='Blues',\n",
    "            linewidths=.5,\n",
    "            annot=True, fmt='1.0f', cbar=False)\n",
    "\n",
    "plt.xticks(fontsize=20)\n",
    "plt.yticks(fontsize=20)\n",
    "\n",
    "save_fig(join(save_dir, '{}_block_vs_pam50_subtype.png'.format(v1)), dpi=dpi)\n"
   ]
  },
  {
   "cell_type": "markdown",
   "metadata": {},
   "source": [
    "# Block survival"
   ]
  },
  {
   "cell_type": "code",
   "execution_count": 41,
   "metadata": {},
   "outputs": [],
   "source": [
    "pval = survival['block']['pval']\n",
    "plt.figure(figsize=(inches, inches))\n",
    "plot_survival(df=survival['block']['df'], cat_col='cluster')\n",
    "plt.xlabel(\"Time (days)\")\n",
    "plt.ylabel(\"Progression Free Interval\")\n",
    "plt.title('{} vs. block label, p = {:1.3f}'.format('PFI', pval))\n",
    "save_fig(join(save_dir, '{}_block_vs_survial.png'.format(v1)), dpi=dpi)\n"
   ]
  },
  {
   "cell_type": "code",
   "execution_count": null,
   "metadata": {},
   "outputs": [],
   "source": []
  },
  {
   "cell_type": "code",
   "execution_count": null,
   "metadata": {},
   "outputs": [],
   "source": []
  }
 ],
 "metadata": {
  "kernelspec": {
   "display_name": "Python [conda env:mvmm_public] *",
   "language": "python",
   "name": "conda-env-mvmm_public-py"
  },
  "language_info": {
   "codemirror_mode": {
    "name": "ipython",
    "version": 3
   },
   "file_extension": ".py",
   "mimetype": "text/x-python",
   "name": "python",
   "nbconvert_exporter": "python",
   "pygments_lexer": "ipython3",
   "version": "3.6.12"
  }
 },
 "nbformat": 4,
 "nbformat_minor": 2
}
