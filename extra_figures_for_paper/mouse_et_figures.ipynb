{
 "cells": [
  {
   "cell_type": "code",
   "execution_count": 1,
   "metadata": {},
   "outputs": [],
   "source": [
    "from joblib import load\n",
    "from os.path import join\n",
    "# import argparse\n",
    "import numpy as np\n",
    "import matplotlib.pyplot as plt\n",
    "import seaborn as sns\n",
    "import pandas as pd\n",
    "\n",
    "\n",
    "from mvmm_sim.simulation.sim_viz import save_fig\n",
    "from mvmm_sim.data_analysis.multi_view.viz_resuls import plot_Pi\n",
    "from mvmm.multi_view.block_diag.graph.bipt_community import community_summary\n",
    "from mvmm_sim.data_analysis.multi_view.viz_resuls import plot_Pi\n",
    "\n",
    "from explore.CatCat import CatCat\n",
    "\n",
    "inches = 15\n",
    "dpi = 200\n",
    "\n",
    "plt.rcParams[\"axes.labelsize\"] = 25\n",
    "sns.set_style(\"whitegrid\")\n",
    "\n",
    "save_dir = 'mouse_et_figures'"
   ]
  },
  {
   "cell_type": "code",
   "execution_count": 2,
   "metadata": {},
   "outputs": [],
   "source": [
    "fpaths=['/Users/iaincarmichael/Dropbox/Research/mvmm/public_release/mouse_et/pro_data/transcriptomic_select_markers_pca_feats.csv',\n",
    "        '/Users/iaincarmichael/Dropbox/Research/mvmm/public_release/mouse_et/pro_data/ephys_pca_feats.csv']\n",
    "results_dir='' # set the results directory\n",
    "\n",
    "vars2compare_fpath='/Users/iaincarmichael/Dropbox/Research/mvmm/public_release/mouse_et/pro_data/vars2compare.csv'\n",
    "metadata_fpath = '/Users/iaincarmichael/Dropbox/Research/mvmm/public_release/mouse_et/pro_data/metadata.csv'\n",
    "\n",
    "interp_dir = join(results_dir, 'interpret', 'bd_mvmm')\n",
    "\n"
   ]
  },
  {
   "cell_type": "code",
   "execution_count": 3,
   "metadata": {},
   "outputs": [],
   "source": [
    "vars2compare = pd.read_csv(vars2compare_fpath, index_col=0)\n",
    "\n",
    "# map super types to sub types\n",
    "super2sub = vars2compare.groupby('transcr_super_type')['transcr_subtype'].unique()\n",
    "\n",
    "pi_data = load(join(interp_dir, 'pi_data'))\n",
    "bd_mvmm = load(join(results_dir, 'model_fitting', 'selected_models'))['bd_mvmm'].final_\n",
    "\n",
    "\n",
    "y_block_pred = pd.read_csv(join(results_dir, 'interpret', 'bd_mvmm', 'block', 'y_pred_block.csv'), header=None, index_col=0)\n",
    "y_block_pred.columns = ['block']\n",
    "y_block_pred.index.name = 'specimen_id'\n"
   ]
  },
  {
   "cell_type": "markdown",
   "metadata": {},
   "source": [
    "# Pi matrix"
   ]
  },
  {
   "cell_type": "code",
   "execution_count": 4,
   "metadata": {},
   "outputs": [],
   "source": [
    "D = pi_data['Pi_block_perm']\n",
    "D.index.name = \"RNA clusters\"\n",
    "D.columns.name = \"Ephys clusters\"\n",
    "\n",
    "\n",
    "plt.figure(figsize=(inches, inches))\n",
    "plot_Pi(D, mask=pi_data['Pi_block_perm_zero_mask'], cmap=\"Blues\", cbar=True)\n",
    "save_fig(join(save_dir, 'mouse_et_bd_pi.png'), dpi=dpi)"
   ]
  },
  {
   "cell_type": "markdown",
   "metadata": {},
   "source": [
    "# subtypes"
   ]
  },
  {
   "cell_type": "code",
   "execution_count": 81,
   "metadata": {},
   "outputs": [],
   "source": [
    "# md = load(join(results_dir, 'interpret', 'bd_mvmm', 'block', 'metadata_comparisons_block'))\n",
    "# cross_counts = md.comparisons_.iloc[0,0].cross_\n",
    "\n",
    "md = CatCat().fit(y_block_pred['block'].astype(str), vars2compare['transcr_subtype'])\n",
    "cross_counts = md.cross_\n",
    "\n",
    "cross_counts.columns = list(cross_counts.columns) # gets rid of annoying categorical index"
   ]
  },
  {
   "cell_type": "code",
   "execution_count": 109,
   "metadata": {},
   "outputs": [
    {
     "name": "stderr",
     "output_type": "stream",
     "text": [
      "/Users/iaincarmichael/anaconda3/envs/mvmm_public/lib/python3.6/site-packages/ipykernel_launcher.py:9: SettingWithCopyWarning: \n",
      "A value is trying to be set on a copy of a slice from a DataFrame.\n",
      "Try using .loc[row_indexer,col_indexer] = value instead\n",
      "\n",
      "See the caveats in the documentation: http://pandas.pydata.org/pandas-docs/stable/user_guide/indexing.html#returning-a-view-versus-a-copy\n",
      "  if __name__ == '__main__':\n"
     ]
    }
   ],
   "source": [
    "# all_cols = np.array(cross_counts_14.columns.values)\n",
    "all_cols = cross_counts.columns\n",
    "cross_counts_14 = cross_counts.loc[[str(1), str(4)]]\n",
    "cols2keep = all_cols[cross_counts_14.sum() > 0]\n",
    "\n",
    "other_cols = list(set(all_cols).difference(cols2keep))\n",
    "\n",
    "results_14 = cross_counts[cols2keep]\n",
    "results_14['Other subtypes'] = cross_counts[other_cols].sum(axis=1).values\n"
   ]
  },
  {
   "cell_type": "code",
   "execution_count": 113,
   "metadata": {
    "scrolled": false
   },
   "outputs": [
    {
     "name": "stderr",
     "output_type": "stream",
     "text": [
      "/Users/iaincarmichael/anaconda3/envs/mvmm_public/lib/python3.6/site-packages/ipykernel_launcher.py:7: SettingWithCopyWarning: \n",
      "A value is trying to be set on a copy of a slice from a DataFrame\n",
      "\n",
      "See the caveats in the documentation: http://pandas.pydata.org/pandas-docs/stable/user_guide/indexing.html#returning-a-view-versus-a-copy\n",
      "  import sys\n",
      "/Users/iaincarmichael/anaconda3/envs/mvmm_public/lib/python3.6/site-packages/ipykernel_launcher.py:8: SettingWithCopyWarning: \n",
      "A value is trying to be set on a copy of a slice from a DataFrame.\n",
      "Try using .loc[row_indexer,col_indexer] = value instead\n",
      "\n",
      "See the caveats in the documentation: http://pandas.pydata.org/pandas-docs/stable/user_guide/indexing.html#returning-a-view-versus-a-copy\n",
      "  \n"
     ]
    }
   ],
   "source": [
    "results_14.index.name = 'MVMM Block'\n",
    "results_14.columns.name = 'Transcriptomic Subtype'\n",
    "\n",
    "labels = results_14.values.astype(int).astype(str).copy()\n",
    "\n",
    "# change this very large value so the heamtmaps looks nicer \n",
    "results_14.loc[str(2), 'Other subtypes'] = 120 \n",
    "results_14[results_14 == 0] = np.nan\n",
    "\n",
    "\n",
    "plt.figure(figsize=(4, 8))\n",
    "# sns.heatmap(results_14.T, vmin=0, cmap='Blues',\n",
    "#             linewidths=.5,\n",
    "#             annot=True, fmt='1.0f', cbar=False)\n",
    "\n",
    "sns.heatmap(results_14.T, vmin=0, cmap='Blues',\n",
    "            linewidths=.5,\n",
    "            annot=labels.T,\n",
    "            cbar=False, fmt='')\n",
    "\n",
    "plt.xticks(fontsize=20)\n",
    "plt.yticks(fontsize=20)\n",
    "\n",
    "save_fig(join(save_dir, 'block_vs_transcr_subtype.png'), dpi=dpi)"
   ]
  },
  {
   "cell_type": "markdown",
   "metadata": {},
   "source": [
    "# ephys curves"
   ]
  },
  {
   "cell_type": "code",
   "execution_count": 4,
   "metadata": {},
   "outputs": [],
   "source": [
    "from mvmm_sim.data_analysis.utils import load_data\n",
    "from mvmm_sim.mouse_et.MouseETPaths import MouseETPaths\n",
    "from mvmm_sim.mouse_et.raw_ephys_loading import load_raw_ephys\n",
    "from mvmm_sim.mouse_et.ephys_viz import get_ephys_super_data,\\\n",
    "    plot_top_clust_ephys_curves, plot_cluster_ephys_curve"
   ]
  },
  {
   "cell_type": "code",
   "execution_count": 5,
   "metadata": {},
   "outputs": [
    {
     "name": "stdout",
     "output_type": "stream",
     "text": [
      "inst_freq_data (4269, 150)\n",
      "spiking_threshold_v_data (4269, 150)\n",
      "first_ap_v_data (4269, 300)\n",
      "spiking_width_data (4269, 150)\n",
      "first_ap_dv_data (4269, 298)\n",
      "spiking_peak_v_data (4269, 150)\n",
      "spiking_upstroke_downstroke_ratio_data (4269, 150)\n",
      "isi_shape_data (4269, 100)\n",
      "step_subthresh_data (4269, 700)\n",
      "subthresh_norm_data (4269, 140)\n",
      "spiking_fast_trough_v_data (4269, 150)\n",
      "inst_freq_norm_data (4269, 150)\n"
     ]
    }
   ],
   "source": [
    "\n",
    "fitting_dir = join(results_dir, 'model_fitting')\n",
    "ephys_viz_dir = join(results_dir, 'interpret', 'bd_mvmm', 'ephys_pca_feats')\n",
    "\n",
    "\n",
    "# load models and data\n",
    "models = load(join(fitting_dir, 'selected_models'))\n",
    "view_data, dataset_names, sample_names, view_feat_names = load_data(*fpaths)\n",
    "\n",
    "\n",
    "# load raw ephys data\n",
    "orig_data_dir = join(MouseETPaths().raw_data_dir, 'inh_patchseq_spca_files',\n",
    "                     'orig_data_csv')\n",
    "ephys_raw = load_raw_ephys(orig_data_dir, concat=False)\n",
    "for k in ephys_raw.keys():\n",
    "    ephys_raw[k] = ephys_raw[k].loc[sample_names]\n",
    "    print(k, ephys_raw[k].shape)\n",
    "n_datasets = len(ephys_raw)\n",
    "\n",
    "\n",
    "# get data for plotting\n",
    "v = 1\n",
    "cluster_super_means, super_data_means, super_data_stds, y_cnts = \\\n",
    "    get_ephys_super_data(model=models['bd_mvmm'].final_.view_models_[v],\n",
    "                         fit_data=view_data[v],\n",
    "                         ephys_raw=ephys_raw)\n",
    "\n",
    "clust_labels = ['cluster_{}'.format(cl_idx + 1)\n",
    "                for cl_idx in range(len(y_cnts))]\n"
   ]
  },
  {
   "cell_type": "code",
   "execution_count": 37,
   "metadata": {},
   "outputs": [],
   "source": [
    "import numpy as np\n",
    "import matplotlib.pyplot as plt\n",
    "import seaborn as sns\n",
    "import pandas as pd\n",
    "from collections import Counter\n",
    "\n",
    "from mvmm_sim.viz_utils import simpleaxis\n",
    "from mvmm_sim.data_analysis.super_means import get_super_means\n",
    "\n",
    "from mvmm_sim.mouse_et.ephys_viz import plot_ephys_curve\n",
    "\n",
    "from matplotlib import pyplot as plt\n",
    "plt.rcParams[\"axes.grid\"] = False\n",
    "plt.rcParams[\"axes.labelsize\"] = 50\n",
    "\n",
    "\n",
    "def transform_name(name):\n",
    "    return ' '.join(name.split('_')[:-1])\n"
   ]
  },
  {
   "cell_type": "code",
   "execution_count": 52,
   "metadata": {},
   "outputs": [
    {
     "data": {
      "text/plain": [
       "array([[ 43.48214638,  34.21645609,  33.1578873 , ..., 118.93180008,\n",
       "        119.90877415, 119.19885043],\n",
       "       [ 21.6860223 ,  15.07716158,  11.6222502 , ...,  18.09862479,\n",
       "         17.8860368 ,  17.48738863],\n",
       "       [ 21.91498577,   9.04939444,   4.88851235, ...,   1.35861146,\n",
       "          1.34273167,   1.3268519 ],\n",
       "       ...,\n",
       "       [ 38.89848592,  32.66226753,  29.14623409, ...,  66.06592199,\n",
       "         65.25248499,  64.54163688],\n",
       "       [ 12.17804854,   9.32094899,   6.81688965, ...,   9.9728572 ,\n",
       "          9.96879539,   9.86985401],\n",
       "       [  2.45771631,   2.43341667,   2.40911702, ...,  20.91629232,\n",
       "         20.87570233,  20.86073157]])"
      ]
     },
     "execution_count": 52,
     "metadata": {},
     "output_type": "execute_result"
    }
   ],
   "source": [
    "cluster_super_means['inst_freq_data']"
   ]
  },
  {
   "cell_type": "code",
   "execution_count": 53,
   "metadata": {},
   "outputs": [],
   "source": [
    "cl_idx = 36 - 1\n",
    "to_show = ['first_ap_v_data', 'spiking_width_data', 'spiking_peak_v_data',\n",
    "           'spiking_upstroke_downstroke_ratio_data', 'isi_shape_data',\n",
    "           'step_subthresh_data', 'inst_freq_norm_data']\n",
    "\n",
    "\n",
    "label = clust_labels[cl_idx]\n",
    "\n",
    "values = {}\n",
    "for name in cluster_super_means.keys():\n",
    "    values[name] = cluster_super_means[name][cl_idx]\n",
    "\n",
    "# values = {k: values[k] for k in to_show}\n",
    "\n",
    "\n",
    "\n",
    "# plt.figure(figsize=(2 * len(values) * inches, inches))\n",
    "# plot_cluster_ephys_curve(values,\n",
    "#                          overall_means=super_data_means,\n",
    "#                          overall_stds=super_data_stds,\n",
    "#                          y_label=label)\n",
    "\n",
    "overall_means=super_data_means\n",
    "overall_stds=super_data_stds\n",
    "y_label=label"
   ]
  },
  {
   "cell_type": "code",
   "execution_count": 54,
   "metadata": {},
   "outputs": [],
   "source": [
    "n_data_types = len(values)\n",
    "max_n_cols = 4\n",
    "n_cols = min(max_n_cols, n_data_types)\n",
    "n_rows = np.ceil(n_data_types / max_n_cols).astype(int)\n",
    "\n",
    "plt.figure(figsize=(inches * n_cols, inches * n_rows))\n",
    "grid = plt.GridSpec(nrows=n_rows, ncols=n_cols,\n",
    "                    wspace=0.4)  #, hspace=0.4)\n",
    "\n",
    "\n",
    "for data_idx, data_name in enumerate(values.keys()):\n",
    "    if overall_means is not None:\n",
    "        m = overall_means[data_name]\n",
    "    if overall_stds is not None:\n",
    "        s = overall_stds[data_name]\n",
    "\n",
    "\n",
    "    col_idx = data_idx % n_cols\n",
    "    row_idx = data_idx // n_cols\n",
    "    \n",
    "    plt.subplot(grid[row_idx, col_idx])\n",
    "    \n",
    "    plot_ephys_curve(values[data_name], overall_mean=m, overall_std=s,\n",
    "                         color='red')\n",
    "    plt.ylabel(transform_name(data_name))\n",
    "    plt.xlabel('Time')\n",
    "    \n",
    "\n",
    "save_fig(join(save_dir, 'ephys_curve_cl_{}.png'.format(cl_idx + 1)), dpi=dpi)"
   ]
  },
  {
   "cell_type": "code",
   "execution_count": null,
   "metadata": {},
   "outputs": [],
   "source": []
  }
 ],
 "metadata": {
  "kernelspec": {
   "display_name": "Python [conda env:mvmm_public] *",
   "language": "python",
   "name": "conda-env-mvmm_public-py"
  },
  "language_info": {
   "codemirror_mode": {
    "name": "ipython",
    "version": 3
   },
   "file_extension": ".py",
   "mimetype": "text/x-python",
   "name": "python",
   "nbconvert_exporter": "python",
   "pygments_lexer": "ipython3",
   "version": "3.6.12"
  }
 },
 "nbformat": 4,
 "nbformat_minor": 4
}
