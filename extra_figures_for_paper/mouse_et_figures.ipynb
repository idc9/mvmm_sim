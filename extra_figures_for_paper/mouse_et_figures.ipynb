{
 "cells": [
  {
   "cell_type": "code",
   "execution_count": 21,
   "metadata": {},
   "outputs": [],
   "source": [
    "from joblib import load\n",
    "from os.path import join\n",
    "# import argparse\n",
    "import numpy as np\n",
    "import matplotlib.pyplot as plt\n",
    "import seaborn as sns\n",
    "import pandas as pd\n",
    "\n",
    "\n",
    "from mvmm.simulation.sim_viz import save_fig\n",
    "# from mvmm.data_analysis.utils import load_data\n",
    "# from mvmm.simulation.utils import make_and_get_dir\n",
    "from mvmm.data_analysis.multi_view.viz_resuls import plot_Pi\n",
    "\n",
    "inches = 15\n",
    "dpi = 200\n",
    "\n",
    "plt.rcParams[\"axes.labelsize\"] = 25\n",
    "sns.set_style(\"whitegrid\")\n",
    "\n",
    "save_dir = 'mouse_et_figures'"
   ]
  },
  {
   "cell_type": "markdown",
   "metadata": {},
   "source": [
    "# load data"
   ]
  },
  {
   "cell_type": "code",
   "execution_count": 22,
   "metadata": {},
   "outputs": [],
   "source": [
    "fpaths=['/Users/iaincarmichael/Dropbox/Research/mvmm/simulations/mouse_et/pro_data/transcriptomic_select_markers_pca_feats.csv',\n",
    "        '/Users/iaincarmichael/Dropbox/Research/mvmm/simulations/mouse_et/pro_data/ephys_pca_feats.csv']\n",
    "results_dir='/Users/iaincarmichael/Dropbox/Research/mvmm/simulations/mouse_et/analysis_select_markers_pca/'\n",
    "\n",
    "vars2compare_fpath='/Users/iaincarmichael/Dropbox/Research/mvmm/simulations/mouse_et/pro_data/vars2compare.csv'\n",
    "metadata_fpath = '/Users/iaincarmichael/Dropbox/Research/mvmm/simulations/mouse_et/pro_data/metadata.csv'\n",
    "\n",
    "interp_dir = join(results_dir, 'interpret', 'bd_mvmm')\n",
    "\n"
   ]
  },
  {
   "cell_type": "code",
   "execution_count": 7,
   "metadata": {},
   "outputs": [],
   "source": [
    "vars2compare = pd.read_csv(vars2compare_fpath, index_col=0)\n",
    "\n",
    "# map super types to sub types\n",
    "super2sub = vars2compare.groupby('transcr_super_type')['transcr_subtype'].unique()\n",
    "\n",
    "pi_data = load(join(interp_dir, 'pi_data'))\n",
    "bd_mvmm = load(join(results_dir, 'model_fitting', 'selected_models'))['bd_mvmm'].final_"
   ]
  },
  {
   "cell_type": "markdown",
   "metadata": {},
   "source": [
    "# BD Pi matrix"
   ]
  },
  {
   "cell_type": "code",
   "execution_count": 23,
   "metadata": {},
   "outputs": [],
   "source": [
    "D = pi_data['Pi_block_perm']\n",
    "D.index.name = \"RNA clusters\"\n",
    "D.columns.name = \"Ephys clusters\"\n",
    "\n",
    "\n",
    "plt.figure(figsize=(inches, inches))\n",
    "plot_Pi(D, mask=pi_data['Pi_block_perm_zero_mask'], cmap=\"Blues\", cbar=True)\n",
    "\n",
    "save_fig(join(save_dir, 'mouse_et_bd_pi.png'), dpi=dpi)"
   ]
  },
  {
   "cell_type": "markdown",
   "metadata": {},
   "source": [
    "# Block labels vs. transcriptomics subtypes"
   ]
  },
  {
   "cell_type": "code",
   "execution_count": 11,
   "metadata": {},
   "outputs": [],
   "source": [
    "block_compare = load(join(interp_dir, 'block', 'metadata_comparisons_block'))\n",
    "# block_compare = block_compare.comparisons_.iloc[0, 0]\n",
    "\n",
    "compare_subtype = block_compare.comparisons_.loc['block', 'transcr_subtype']\n",
    "compare_supertype = block_compare.comparisons_.loc['block', 'transcr_super_type']\n",
    "\n",
    "cross_counts = compare_subtype.cross_\n",
    "cross_counts.index.name = 'MVMM Block'\n",
    "cross_counts.columns.name = 'Transcriptomic subtype'\n",
    "\n",
    "sorted_cols = cross_counts.sum(axis=0).sort_values(ascending=False).index\n",
    "cross_counts = cross_counts[sorted_cols]\n",
    "\n",
    "# order super labels by size\n",
    "ordered_super_labels = vars2compare['transcr_super_type'].value_counts().index\n",
    "super2sub = super2sub.loc[ordered_super_labels]\n",
    "subtype_super_ordering = np.concatenate([super2sub[s] for s in super2sub.index])\n",
    "cross_counts = cross_counts[subtype_super_ordering]\n",
    "\n",
    "# where the super categories change\n",
    "super_sizes = [len(super2sub[s]) for s in super2sub.index]\n",
    "break_idxs = np.cumsum(super_sizes)\n",
    "\n",
    "super_colors = sns.color_palette(\"Set2\", super2sub.shape[0])\n",
    "tick_colors = np.concatenate([[super_colors[i]] * super_sizes[i] for i in range(len(super_sizes))])\n",
    "\n",
    "# set zeros to Nans to automatically kill zeros\n",
    "cross_counts[cross_counts == 0] = np.nan"
   ]
  },
  {
   "cell_type": "code",
   "execution_count": 24,
   "metadata": {},
   "outputs": [],
   "source": [
    "# plt.figure(figsize=(5, 15))\n",
    "plt.figure(figsize=(inches / 3, inches))\n",
    "\n",
    "sns.heatmap(cross_counts.T, vmin=0, cmap='Blues',\n",
    "            # mask=(cross_counts == 0).values.T,\n",
    "            linewidths=.5,\n",
    "            annot=True, fmt='1.0f', cbar=False)\n",
    "\n",
    "for idx in break_idxs[:-1]:\n",
    "    plt.axhline(idx, color='black')\n",
    "    \n",
    "    \n",
    "for idx, tick in enumerate(plt.gca().get_yticklabels()):\n",
    "    tick.set_color(tick_colors[idx])\n",
    "\n",
    "    \n",
    "pos_y = [10, 28, 40, 53, 57, 60]\n",
    "pox_x = [-1.3, -1.3, -1.3, -1.3, -1.1, -1.3]\n",
    "for idx, super_label in enumerate(super2sub.index):\n",
    "    \n",
    "    plt.annotate(super_label, xy=(0, pos_y[idx]), xytext=(pox_x[idx], pos_y[idx]), \n",
    "                 rotation=90, color=super_colors[idx], fontweight='bold', fontsize=15)\n",
    "\n",
    "save_fig(join(save_dir, 'mouse_et_block_vs_transcr.png'), dpi=dpi)"
   ]
  },
  {
   "cell_type": "code",
   "execution_count": null,
   "metadata": {},
   "outputs": [],
   "source": [
    "# plt.figure(figsize=(20, 3))\n",
    "# sns.heatmap(cross_counts, vmin=0, cmap='Blues',\n",
    "#             linewidths=.5,\n",
    "#             annot=True, fmt='1.0f', cbar=False)\n",
    "\n",
    "# for idx in break_idxs:\n",
    "#     plt.axvline(idx, color='black')\n",
    "    \n",
    "    \n",
    "# for idx, tick in enumerate(plt.gca().get_xticklabels()):\n",
    "#     tick.set_color(tick_colors[idx])"
   ]
  }
 ],
 "metadata": {
  "kernelspec": {
   "display_name": "Python [conda env:mvmm_public] *",
   "language": "python",
   "name": "conda-env-mvmm_public-py"
  },
  "language_info": {
   "codemirror_mode": {
    "name": "ipython",
    "version": 3
   },
   "file_extension": ".py",
   "mimetype": "text/x-python",
   "name": "python",
   "nbconvert_exporter": "python",
   "pygments_lexer": "ipython3",
   "version": "3.6.12"
  }
 },
 "nbformat": 4,
 "nbformat_minor": 2
}
