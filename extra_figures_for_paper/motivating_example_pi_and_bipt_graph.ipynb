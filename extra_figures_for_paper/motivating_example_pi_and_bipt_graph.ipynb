{
 "cells": [
  {
   "cell_type": "code",
   "execution_count": 1,
   "metadata": {},
   "outputs": [],
   "source": [
    "import seaborn as sns\n",
    "import matplotlib.pyplot as plt\n",
    "import numpy as np\n",
    "import networkx as nx\n",
    "from mvmm.multi_view.block_diag.graph.linalg import get_adjmat_bp\n",
    "from mvmm.simulation.sim_viz import save_fig\n",
    "\n",
    "fig_dir = './figures/'\n",
    "dpi = 200\n",
    "\n",
    "# plt.rcParams[\"axes.labelsize\"] = 15"
   ]
  },
  {
   "cell_type": "code",
   "execution_count": 2,
   "metadata": {},
   "outputs": [],
   "source": [
    "def get_bipt_graph(X):\n",
    "    mult = 1\n",
    "    X = X.astype(bool)\n",
    "\n",
    "    n_rows = X.shape[0]\n",
    "    n_cols = X.shape[1]\n",
    "\n",
    "    A = get_adjmat_bp(X)\n",
    "    G = nx.from_numpy_array(A)\n",
    "\n",
    "    kws = {}\n",
    "    kws['node_color'] = np.concatenate([['red'] * n_rows, ['grey']*n_cols])\n",
    "    kws['node_size'] = 3000 # 1800\n",
    "    kws['with_labels'] = True\n",
    "    kws['font_weight'] = 'bold'\n",
    "    kws['font_size'] = 15\n",
    "    kws['alpha'] = .9\n",
    "    kws['width'] = 3\n",
    "\n",
    "    pos = {}\n",
    "    idx2name = {}\n",
    "    idx = 0\n",
    "    for r in range(n_rows):\n",
    "        lab = 'Row {}'.format(r + 1)\n",
    "        pos[lab] = [0, -r * mult]\n",
    "\n",
    "        idx2name[idx] = lab\n",
    "        idx += 1\n",
    "\n",
    "    for c in range(n_cols):\n",
    "        lab = 'Col {}'.format(c + 1)\n",
    "        pos[lab] = [.1, -c * mult]\n",
    "\n",
    "        idx2name[idx] = lab\n",
    "        idx += 1\n",
    "\n",
    "    G = nx.relabel_nodes(G, idx2name)\n",
    "    return G, pos, kws\n",
    "\n"
   ]
  },
  {
   "cell_type": "code",
   "execution_count": 3,
   "metadata": {},
   "outputs": [],
   "source": [
    "X = np.zeros((10, 10))\n",
    "X[0, 0] = 1\n",
    "X[1, 1] = 1\n",
    "X[2, 2:5] = 1\n",
    "X[3:5, 5] = 1\n",
    "X[5:7, 6] = 1\n",
    "X[5:7, 7] = 1\n",
    "X[7:10, 8] = 1\n",
    "X[7:9, 9] = 1\n",
    "X = X.astype(bool)\n",
    "\n",
    "\n",
    "G, pos, kws = get_bipt_graph(X)\n",
    "\n",
    "plt.figure(figsize=(5, 5))\n",
    "sns.heatmap(~X, mask=~X, cbar=False, square=True, linewidths=.5)\n",
    "x_ticks = np.arange(1, X.shape[1] + 1)\n",
    "y_ticks = np.arange(1, X.shape[0] + 1)\n",
    "plt.xticks(x_ticks - .5, x_ticks)\n",
    "plt.yticks(y_ticks - .5, y_ticks)\n",
    "plt.xlabel(\"View 1 clusters\")\n",
    "plt.ylabel(\"View 2 clusters\")\n",
    "save_fig(fig_dir + 'motiv_ex_pi.png', dpi=dpi)\n",
    "\n",
    "plt.figure(figsize=(6, 10))\n",
    "nx.draw(G, pos, **kws)\n",
    "save_fig(fig_dir + 'motiv_ex_pi_bipt_graph.png', dpi=dpi)"
   ]
  },
  {
   "cell_type": "code",
   "execution_count": null,
   "metadata": {},
   "outputs": [],
   "source": []
  },
  {
   "cell_type": "code",
   "execution_count": null,
   "metadata": {},
   "outputs": [],
   "source": []
  }
 ],
 "metadata": {
  "kernelspec": {
   "display_name": "Python [conda env:mvmm]",
   "language": "python",
   "name": "conda-env-mvmm-py"
  },
  "language_info": {
   "codemirror_mode": {
    "name": "ipython",
    "version": 3
   },
   "file_extension": ".py",
   "mimetype": "text/x-python",
   "name": "python",
   "nbconvert_exporter": "python",
   "pygments_lexer": "ipython3",
   "version": "3.6.9"
  }
 },
 "nbformat": 4,
 "nbformat_minor": 2
}
