{
 "cells": [
  {
   "cell_type": "code",
   "execution_count": 2,
   "metadata": {},
   "outputs": [],
   "source": [
    "import numpy as np\n",
    "import matplotlib.pyplot as plt\n",
    "%matplotlib inline\n",
    "from matplotlib import rc\n",
    "import pylab as plot\n",
    "\n",
    "from mvmm_sim.simulation.sim_viz import save_fig\n",
    "from mvmm.viz_utils import simpleaxis\n",
    "\n",
    "fig_dir = './figures/'"
   ]
  },
  {
   "cell_type": "code",
   "execution_count": 3,
   "metadata": {},
   "outputs": [],
   "source": [
    "rc('text', usetex=True)\n",
    "\n",
    "params = {'legend.fontsize': 15,\n",
    "         'font.size': 15}\n",
    "          # 'legend.handlelength': 2}\n",
    "plot.rcParams.update(params)\n"
   ]
  },
  {
   "cell_type": "code",
   "execution_count": 4,
   "metadata": {},
   "outputs": [],
   "source": [
    "x  = np.linspace(start=.00001, stop=1, num=10000)\n",
    "\n",
    "\n",
    "eps = .01\n",
    "a = 1.1\n",
    "lambd = 1\n",
    "y = a * np.log(x) - lambd * np.log(x + eps)\n",
    "\n",
    "plt.figure(figsize=(4,4))\n",
    "plt.plot(x, y, color='blue')\n",
    "plt.axhline(0, color='black')\n",
    "plt.xlim(-0.01, 1)\n",
    "plt.ylim(-2, 1)\n",
    "plt.xlabel('$\\pi$')\n",
    "plt.ylabel('$f(\\pi)$')\n",
    "plt.title('$\\lambda < a$')\n",
    "simpleaxis(plt.gca())\n",
    "\n",
    "save_fig(fig_dir + 'pen_fun_lambda_less_than_a.png')"
   ]
  },
  {
   "cell_type": "code",
   "execution_count": 5,
   "metadata": {
    "scrolled": false
   },
   "outputs": [],
   "source": [
    "x  = np.linspace(start=.00001, stop=1, num=10000)\n",
    "\n",
    "\n",
    "eps = .01\n",
    "a = 1\n",
    "lambd = 1.2\n",
    "\n",
    "y = a * np.log(x) - lambd * np.log(x + eps)\n",
    "\n",
    "pi_max = a * eps / (lambd - a)\n",
    "\n",
    "plt.figure(figsize=(4,4))\n",
    "plt.plot(x, y, color='blue')\n",
    "plt.axhline(0, color='black')\n",
    "plt.xlim(-0.01, 1)\n",
    "plt.ylim(-2, 1)\n",
    "plt.axvline(pi_max, ls='--', color='blue',\n",
    "            label=r'$\\pi^* = \\frac{a \\delta}{\\lambda - a}$')\n",
    "plt.legend()# (fontsize=15)\n",
    "plt.xlabel('$\\pi$')\n",
    "plt.ylabel('$f(\\pi)$')\n",
    "plt.title('$\\lambda > a$')\n",
    "simpleaxis(plt.gca())\n",
    "save_fig(fig_dir + 'pen_fun_lambda_greater_than_a.png')"
   ]
  },
  {
   "cell_type": "markdown",
   "metadata": {},
   "source": [
    "# raw penalty function"
   ]
  },
  {
   "cell_type": "code",
   "execution_count": 6,
   "metadata": {},
   "outputs": [],
   "source": [
    "annot_font_size = 15\n",
    "\n",
    "x_min = 0\n",
    "x_max = 1\n",
    "x  = np.linspace(start=x_min, stop=x_max, num=100)\n",
    "\n",
    "delta = .1\n",
    "\n",
    "def f(x):\n",
    "    return np.log10(x + delta)\n",
    "\n",
    "plt.figure(figsize=(5, 5))\n",
    "plt.plot(x, f(x), color='blue')\n",
    "\n",
    "\n",
    "plt.yticks([0, f(0)], ['0', 'log($\\delta$)'])\n",
    "plt.xticks([1 - delta], ['log(1 - $\\delta$)'])\n",
    "# plt.xlabel('x')\n",
    "\n",
    "\n",
    "plt.xlim(x_min, x_max)\n",
    "plt.axhline(0, color='black')\n",
    "plt.ylim(-1.2, .2)\n",
    "\n",
    "plt.gca().spines['right'].set_visible(False)\n",
    "plt.gca().spines['top'].set_visible(False)\n",
    "\n",
    "\n",
    "plt.text(.3, -.5, s='log(x + $\\delta$)',\n",
    "         color='blue', fontsize=annot_font_size)\n",
    "\n",
    "\n",
    "plt.rcParams['axes.labelsize'] = 15\n",
    "plt.rcParams['axes.titlesize'] = 15\n",
    "\n",
    "save_fig(fig_dir + 'log_pen_func.png')\n"
   ]
  }
 ],
 "metadata": {
  "kernelspec": {
   "display_name": "Python [conda env:mvmm_public] *",
   "language": "python",
   "name": "conda-env-mvmm_public-py"
  },
  "language_info": {
   "codemirror_mode": {
    "name": "ipython",
    "version": 3
   },
   "file_extension": ".py",
   "mimetype": "text/x-python",
   "name": "python",
   "nbconvert_exporter": "python",
   "pygments_lexer": "ipython3",
   "version": "3.6.12"
  }
 },
 "nbformat": 4,
 "nbformat_minor": 2
}
